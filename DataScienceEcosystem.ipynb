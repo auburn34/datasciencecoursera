{
 "cells": [
  {
   "cell_type": "markdown",
   "id": "c26f3f7f",
   "metadata": {},
   "source": [
    "# Data Science Tools and Ecosystem"
   ]
  },
  {
   "cell_type": "markdown",
   "id": "2971378e",
   "metadata": {},
   "source": [
    "In this notebook, Data Science Tools and Ecosystem are summarized."
   ]
  },
  {
   "cell_type": "markdown",
   "id": "981879c9",
   "metadata": {},
   "source": [
    "**Objectives:**\n",
    "* List popular languages for Data Science\n",
    "* List common libraries used by Data Scientists\n",
    "* Create an ordered list"
   ]
  },
  {
   "cell_type": "markdown",
   "id": "3ae4f533",
   "metadata": {},
   "source": [
    "Some of the popular languages that Data Scientists use are:\n",
    "1.  Python\n",
    "1.  R\n",
    "1.  SQL\n",
    "1.  Julia\n",
    "1.  Scala"
   ]
  },
  {
   "cell_type": "markdown",
   "id": "0b178677",
   "metadata": {},
   "source": [
    "Some of the commonly used libraries used by Data Scientists include:\n",
    "1.  Pandas\n",
    "1.  NumPy\n",
    "1.  TensorFlow\n",
    "1.  SciPy\n",
    "1.  PyTorch"
   ]
  },
  {
   "cell_type": "markdown",
   "id": "2d2aebdc",
   "metadata": {},
   "source": [
    "| Data Science Tools |\n",
    "| --- |\n",
    "| R Studio |\n",
    "| Jupyter Notebooks |\n",
    "| Github |"
   ]
  },
  {
   "cell_type": "markdown",
   "id": "0a0e409b",
   "metadata": {},
   "source": [
    "### Below are a few examples of evaluating arithmetic expressions in Python"
   ]
  },
  {
   "cell_type": "code",
   "execution_count": 1,
   "id": "5c98d309",
   "metadata": {},
   "outputs": [
    {
     "data": {
      "text/plain": [
       "17"
      ]
     },
     "execution_count": 1,
     "metadata": {},
     "output_type": "execute_result"
    }
   ],
   "source": [
    "# This a simple arithmetic expression to mutiply then add integers\n",
    "z = (3*4)+5\n",
    "z"
   ]
  },
  {
   "cell_type": "code",
   "execution_count": 8,
   "id": "e414ec6c",
   "metadata": {},
   "outputs": [
    {
     "name": "stdout",
     "output_type": "stream",
     "text": [
      "3.3333333333333335 hours\n"
     ]
    }
   ],
   "source": [
    "# This will convert 200 minutes to hours by diving by 60\n",
    "numminutes = 200\n",
    "numhours = str(numminutes / 60)\n",
    "print(numhours + \" hours\")"
   ]
  },
  {
   "cell_type": "markdown",
   "id": "20dfe2bc",
   "metadata": {},
   "source": [
    "## Author\n",
    "Sean Rousey"
   ]
  },
  {
   "cell_type": "code",
   "execution_count": null,
   "id": "b5e1172f",
   "metadata": {},
   "outputs": [],
   "source": []
  }
 ],
 "metadata": {
  "kernelspec": {
   "display_name": "Python 3 (ipykernel)",
   "language": "python",
   "name": "python3"
  },
  "language_info": {
   "codemirror_mode": {
    "name": "ipython",
    "version": 3
   },
   "file_extension": ".py",
   "mimetype": "text/x-python",
   "name": "python",
   "nbconvert_exporter": "python",
   "pygments_lexer": "ipython3",
   "version": "3.9.13"
  }
 },
 "nbformat": 4,
 "nbformat_minor": 5
}
